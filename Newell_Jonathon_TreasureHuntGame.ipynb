{
 "cells": [
  {
   "cell_type": "markdown",
   "metadata": {},
   "source": [
    "# Treasure Hunt Game Notebook\n",
    "\n",
    "## Read and Review Your Starter Code\n",
    "The theme of this project is a popular treasure hunt game in which the player needs to find the treasure before the pirate does. While you will not be developing the entire game, you will write the part of the game that represents the intelligent agent, which is a pirate in this case. The pirate will try to find the optimal path to the treasure using deep Q-learning. \n",
    "\n",
    "You have been provided with two Python classes and this notebook to help you with this assignment. The first class, TreasureMaze.py, represents the environment, which includes a maze object defined as a matrix. The second class, GameExperience.py, stores the episodes – that is, all the states that come in between the initial state and the terminal state. This is later used by the agent for learning by experience, called \"exploration\". This notebook shows how to play a game. Your task is to complete the deep Q-learning implementation for which a skeleton implementation has been provided. The code blocks you will need to complete has #TODO as a header.\n",
    "\n",
    "First, read and review the next few code and instruction blocks to understand the code that you have been given."
   ]
  },
  {
   "cell_type": "code",
   "execution_count": 1,
   "metadata": {},
   "outputs": [
    {
     "name": "stdout",
     "output_type": "stream",
     "text": [
      "Requirement already satisfied: numpy==1.26.4 in /home/codio/.pyenv/versions/3.11.2/lib/python3.11/site-packages (from -r requirements.txt (line 1)) (1.26.4)\n",
      "Requirement already satisfied: keras in /home/codio/.pyenv/versions/3.11.2/lib/python3.11/site-packages (from -r requirements.txt (line 2)) (3.11.3)\n",
      "Requirement already satisfied: tensorflow==2.19.0 in /home/codio/.pyenv/versions/3.11.2/lib/python3.11/site-packages (from -r requirements.txt (line 3)) (2.19.0)\n",
      "Requirement already satisfied: absl-py>=1.0.0 in /home/codio/.pyenv/versions/3.11.2/lib/python3.11/site-packages (from tensorflow==2.19.0->-r requirements.txt (line 3)) (2.3.1)\n",
      "Requirement already satisfied: astunparse>=1.6.0 in /home/codio/.pyenv/versions/3.11.2/lib/python3.11/site-packages (from tensorflow==2.19.0->-r requirements.txt (line 3)) (1.6.3)\n",
      "Requirement already satisfied: flatbuffers>=24.3.25 in /home/codio/.pyenv/versions/3.11.2/lib/python3.11/site-packages (from tensorflow==2.19.0->-r requirements.txt (line 3)) (25.9.23)\n",
      "Requirement already satisfied: gast!=0.5.0,!=0.5.1,!=0.5.2,>=0.2.1 in /home/codio/.pyenv/versions/3.11.2/lib/python3.11/site-packages (from tensorflow==2.19.0->-r requirements.txt (line 3)) (0.6.0)\n",
      "Requirement already satisfied: google-pasta>=0.1.1 in /home/codio/.pyenv/versions/3.11.2/lib/python3.11/site-packages (from tensorflow==2.19.0->-r requirements.txt (line 3)) (0.2.0)\n",
      "Requirement already satisfied: libclang>=13.0.0 in /home/codio/.pyenv/versions/3.11.2/lib/python3.11/site-packages (from tensorflow==2.19.0->-r requirements.txt (line 3)) (18.1.1)\n",
      "Requirement already satisfied: opt-einsum>=2.3.2 in /home/codio/.pyenv/versions/3.11.2/lib/python3.11/site-packages (from tensorflow==2.19.0->-r requirements.txt (line 3)) (3.4.0)\n",
      "Requirement already satisfied: packaging in /home/codio/.pyenv/versions/3.11.2/lib/python3.11/site-packages (from tensorflow==2.19.0->-r requirements.txt (line 3)) (23.0)\n",
      "Requirement already satisfied: protobuf!=4.21.0,!=4.21.1,!=4.21.2,!=4.21.3,!=4.21.4,!=4.21.5,<6.0.0dev,>=3.20.3 in /home/codio/.pyenv/versions/3.11.2/lib/python3.11/site-packages (from tensorflow==2.19.0->-r requirements.txt (line 3)) (5.29.5)\n",
      "Requirement already satisfied: requests<3,>=2.21.0 in /home/codio/.pyenv/versions/3.11.2/lib/python3.11/site-packages (from tensorflow==2.19.0->-r requirements.txt (line 3)) (2.30.0)\n",
      "Requirement already satisfied: setuptools in /home/codio/.pyenv/versions/3.11.2/lib/python3.11/site-packages (from tensorflow==2.19.0->-r requirements.txt (line 3)) (65.5.0)\n",
      "Requirement already satisfied: six>=1.12.0 in /home/codio/.pyenv/versions/3.11.2/lib/python3.11/site-packages (from tensorflow==2.19.0->-r requirements.txt (line 3)) (1.16.0)\n",
      "Requirement already satisfied: termcolor>=1.1.0 in /home/codio/.pyenv/versions/3.11.2/lib/python3.11/site-packages (from tensorflow==2.19.0->-r requirements.txt (line 3)) (3.1.0)\n",
      "Requirement already satisfied: typing-extensions>=3.6.6 in /home/codio/.pyenv/versions/3.11.2/lib/python3.11/site-packages (from tensorflow==2.19.0->-r requirements.txt (line 3)) (4.15.0)\n",
      "Requirement already satisfied: wrapt>=1.11.0 in /home/codio/.pyenv/versions/3.11.2/lib/python3.11/site-packages (from tensorflow==2.19.0->-r requirements.txt (line 3)) (1.17.3)\n",
      "Requirement already satisfied: grpcio<2.0,>=1.24.3 in /home/codio/.pyenv/versions/3.11.2/lib/python3.11/site-packages (from tensorflow==2.19.0->-r requirements.txt (line 3)) (1.75.1)\n",
      "Requirement already satisfied: tensorboard~=2.19.0 in /home/codio/.pyenv/versions/3.11.2/lib/python3.11/site-packages (from tensorflow==2.19.0->-r requirements.txt (line 3)) (2.19.0)\n",
      "Requirement already satisfied: h5py>=3.11.0 in /home/codio/.pyenv/versions/3.11.2/lib/python3.11/site-packages (from tensorflow==2.19.0->-r requirements.txt (line 3)) (3.14.0)\n",
      "Requirement already satisfied: ml-dtypes<1.0.0,>=0.5.1 in /home/codio/.pyenv/versions/3.11.2/lib/python3.11/site-packages (from tensorflow==2.19.0->-r requirements.txt (line 3)) (0.5.3)\n",
      "Requirement already satisfied: tensorflow-io-gcs-filesystem>=0.23.1 in /home/codio/.pyenv/versions/3.11.2/lib/python3.11/site-packages (from tensorflow==2.19.0->-r requirements.txt (line 3)) (0.37.1)\n",
      "Requirement already satisfied: rich in /home/codio/.pyenv/versions/3.11.2/lib/python3.11/site-packages (from keras->-r requirements.txt (line 2)) (14.1.0)\n",
      "Requirement already satisfied: namex in /home/codio/.pyenv/versions/3.11.2/lib/python3.11/site-packages (from keras->-r requirements.txt (line 2)) (0.1.0)\n",
      "Requirement already satisfied: optree in /home/codio/.pyenv/versions/3.11.2/lib/python3.11/site-packages (from keras->-r requirements.txt (line 2)) (0.17.0)\n",
      "Requirement already satisfied: wheel<1.0,>=0.23.0 in /home/codio/.pyenv/versions/3.11.2/lib/python3.11/site-packages (from astunparse>=1.6.0->tensorflow==2.19.0->-r requirements.txt (line 3)) (0.45.1)\n",
      "Requirement already satisfied: charset-normalizer<4,>=2 in /home/codio/.pyenv/versions/3.11.2/lib/python3.11/site-packages (from requests<3,>=2.21.0->tensorflow==2.19.0->-r requirements.txt (line 3)) (2.1.1)\n",
      "Requirement already satisfied: idna<4,>=2.5 in /home/codio/.pyenv/versions/3.11.2/lib/python3.11/site-packages (from requests<3,>=2.21.0->tensorflow==2.19.0->-r requirements.txt (line 3)) (3.4)\n",
      "Requirement already satisfied: urllib3<3,>=1.21.1 in /home/codio/.pyenv/versions/3.11.2/lib/python3.11/site-packages (from requests<3,>=2.21.0->tensorflow==2.19.0->-r requirements.txt (line 3)) (2.0.2)\n",
      "Requirement already satisfied: certifi>=2017.4.17 in /home/codio/.pyenv/versions/3.11.2/lib/python3.11/site-packages (from requests<3,>=2.21.0->tensorflow==2.19.0->-r requirements.txt (line 3)) (2023.5.7)\n",
      "Requirement already satisfied: markdown>=2.6.8 in /home/codio/.pyenv/versions/3.11.2/lib/python3.11/site-packages (from tensorboard~=2.19.0->tensorflow==2.19.0->-r requirements.txt (line 3)) (3.9)\n",
      "Requirement already satisfied: tensorboard-data-server<0.8.0,>=0.7.0 in /home/codio/.pyenv/versions/3.11.2/lib/python3.11/site-packages (from tensorboard~=2.19.0->tensorflow==2.19.0->-r requirements.txt (line 3)) (0.7.2)\n",
      "Requirement already satisfied: werkzeug>=1.0.1 in /home/codio/.pyenv/versions/3.11.2/lib/python3.11/site-packages (from tensorboard~=2.19.0->tensorflow==2.19.0->-r requirements.txt (line 3)) (2.0.0)\n",
      "Requirement already satisfied: markdown-it-py>=2.2.0 in /home/codio/.pyenv/versions/3.11.2/lib/python3.11/site-packages (from rich->keras->-r requirements.txt (line 2)) (4.0.0)\n",
      "Requirement already satisfied: pygments<3.0.0,>=2.13.0 in /home/codio/.pyenv/versions/3.11.2/lib/python3.11/site-packages (from rich->keras->-r requirements.txt (line 2)) (2.15.1)\n",
      "Requirement already satisfied: mdurl~=0.1 in /home/codio/.pyenv/versions/3.11.2/lib/python3.11/site-packages (from markdown-it-py>=2.2.0->rich->keras->-r requirements.txt (line 2)) (0.1.2)\n",
      "\n",
      "\u001b[1m[\u001b[0m\u001b[34;49mnotice\u001b[0m\u001b[1;39;49m]\u001b[0m\u001b[39;49m A new release of pip is available: \u001b[0m\u001b[31;49m23.1.2\u001b[0m\u001b[39;49m -> \u001b[0m\u001b[32;49m25.2\u001b[0m\n",
      "\u001b[1m[\u001b[0m\u001b[34;49mnotice\u001b[0m\u001b[1;39;49m]\u001b[0m\u001b[39;49m To update, run: \u001b[0m\u001b[32;49mpip install --upgrade pip\u001b[0m\n"
     ]
    }
   ],
   "source": [
    "!pip install -r requirements.txt"
   ]
  },
  {
   "cell_type": "code",
   "execution_count": 2,
   "metadata": {},
   "outputs": [
    {
     "name": "stderr",
     "output_type": "stream",
     "text": [
      "2025-10-19 02:30:53.073957: I tensorflow/core/util/port.cc:153] oneDNN custom operations are on. You may see slightly different numerical results due to floating-point round-off errors from different computation orders. To turn them off, set the environment variable `TF_ENABLE_ONEDNN_OPTS=0`.\n",
      "2025-10-19 02:30:53.074990: I external/local_xla/xla/tsl/cuda/cudart_stub.cc:32] Could not find cuda drivers on your machine, GPU will not be used.\n",
      "2025-10-19 02:30:53.140970: I external/local_xla/xla/tsl/cuda/cudart_stub.cc:32] Could not find cuda drivers on your machine, GPU will not be used.\n",
      "2025-10-19 02:30:53.206210: E external/local_xla/xla/stream_executor/cuda/cuda_fft.cc:467] Unable to register cuFFT factory: Attempting to register factory for plugin cuFFT when one has already been registered\n",
      "WARNING: All log messages before absl::InitializeLog() is called are written to STDERR\n",
      "E0000 00:00:1760841053.320344     298 cuda_dnn.cc:8579] Unable to register cuDNN factory: Attempting to register factory for plugin cuDNN when one has already been registered\n",
      "E0000 00:00:1760841053.342392     298 cuda_blas.cc:1407] Unable to register cuBLAS factory: Attempting to register factory for plugin cuBLAS when one has already been registered\n",
      "W0000 00:00:1760841053.620362     298 computation_placer.cc:177] computation placer already registered. Please check linkage and avoid linking the same target more than once.\n",
      "W0000 00:00:1760841053.620411     298 computation_placer.cc:177] computation placer already registered. Please check linkage and avoid linking the same target more than once.\n",
      "W0000 00:00:1760841053.620415     298 computation_placer.cc:177] computation placer already registered. Please check linkage and avoid linking the same target more than once.\n",
      "W0000 00:00:1760841053.620418     298 computation_placer.cc:177] computation placer already registered. Please check linkage and avoid linking the same target more than once.\n",
      "2025-10-19 02:30:53.635116: I tensorflow/core/platform/cpu_feature_guard.cc:210] This TensorFlow binary is optimized to use available CPU instructions in performance-critical operations.\n",
      "To enable the following instructions: AVX2 AVX512F AVX512_VNNI FMA, in other operations, rebuild TensorFlow with the appropriate compiler flags.\n"
     ]
    }
   ],
   "source": [
    "from __future__ import print_function\n",
    "import os, sys, time, datetime, json, random\n",
    "import numpy as np\n",
    "import tensorflow as tf\n",
    "from tensorflow.keras.models import clone_model\n",
    "from keras.models import Sequential\n",
    "from keras.layers import Dense, Activation, PReLU\n",
    "from keras.optimizers import SGD , Adam, RMSprop\n",
    "import matplotlib.pyplot as plt\n",
    "from TreasureMaze import TreasureMaze\n",
    "from GameExperience import GameExperience\n",
    "%matplotlib inline\n",
    "\n",
    "## Ignore the warnings below"
   ]
  },
  {
   "cell_type": "markdown",
   "metadata": {},
   "source": [
    "The following code block contains an 8x8 matrix that will be used as a maze object:"
   ]
  },
  {
   "cell_type": "code",
   "execution_count": 3,
   "metadata": {},
   "outputs": [],
   "source": [
    "maze = np.array([\n",
    "    [ 1.,  0.,  1.,  1.,  1.,  1.,  1.,  1.],\n",
    "    [ 1.,  0.,  1.,  1.,  1.,  0.,  1.,  1.],\n",
    "    [ 1.,  1.,  1.,  1.,  0.,  1.,  0.,  1.],\n",
    "    [ 1.,  1.,  1.,  0.,  1.,  1.,  1.,  1.],\n",
    "    [ 1.,  1.,  0.,  1.,  1.,  1.,  1.,  1.],\n",
    "    [ 1.,  1.,  1.,  0.,  1.,  0.,  0.,  0.],\n",
    "    [ 1.,  1.,  1.,  0.,  1.,  1.,  1.,  1.],\n",
    "    [ 1.,  1.,  1.,  1.,  0.,  1.,  1.,  1.]\n",
    "])"
   ]
  },
  {
   "cell_type": "markdown",
   "metadata": {},
   "source": [
    "This helper function allows a visual representation of the maze object:"
   ]
  },
  {
   "cell_type": "code",
   "execution_count": 4,
   "metadata": {},
   "outputs": [],
   "source": [
    "def show(qmaze):\n",
    "    plt.grid('on')\n",
    "    nrows, ncols = qmaze.maze.shape\n",
    "    ax = plt.gca()\n",
    "    ax.set_xticks(np.arange(0.5, nrows, 1))\n",
    "    ax.set_yticks(np.arange(0.5, ncols, 1))\n",
    "    ax.set_xticklabels([])\n",
    "    ax.set_yticklabels([])\n",
    "    canvas = np.copy(qmaze.maze)\n",
    "    for row,col in qmaze.visited:\n",
    "        canvas[row,col] = 0.6\n",
    "    pirate_row, pirate_col, _ = qmaze.state\n",
    "    canvas[pirate_row, pirate_col] = 0.3   # pirate cell\n",
    "    canvas[nrows-1, ncols-1] = 0.9 # treasure cell\n",
    "    img = plt.imshow(canvas, interpolation='none', cmap='gray')\n",
    "    return img"
   ]
  },
  {
   "cell_type": "markdown",
   "metadata": {},
   "source": [
    "The pirate agent can move in four directions: left, right, up, and down. \n",
    "\n",
    "While the agent primarily learns by experience through exploitation, often, the agent can choose to explore the environment to find previously undiscovered paths. This is called \"exploration\" and is defined by epsilon. This value is typically a lower value such as 0.1, which means for every ten attempts, the agent will attempt to learn by experience nine times and will randomly explore a new path one time. You are encouraged to try various values for the exploration factor and see how the algorithm performs."
   ]
  },
  {
   "cell_type": "code",
   "execution_count": 5,
   "metadata": {},
   "outputs": [],
   "source": [
    "LEFT = 0\n",
    "UP = 1\n",
    "RIGHT = 2\n",
    "DOWN = 3\n",
    "\n",
    "\n",
    "# Exploration factor\n",
    "epsilon = 1.0\n",
    "epsilon_min = 0.05\n",
    "epsilon_decay = 0.995\n",
    "patience = 10\n",
    "\n",
    "# Actions dictionary\n",
    "actions_dict = {\n",
    "    LEFT: 'left',\n",
    "    UP: 'up',\n",
    "    RIGHT: 'right',\n",
    "    DOWN: 'down',\n",
    "}\n",
    "\n",
    "num_actions = len(actions_dict)\n"
   ]
  },
  {
   "cell_type": "markdown",
   "metadata": {},
   "source": [
    "The sample code block and output below show creating a maze object and performing one action (DOWN), which returns the reward. The resulting updated environment is visualized."
   ]
  },
  {
   "cell_type": "code",
   "execution_count": 6,
   "metadata": {},
   "outputs": [
    {
     "name": "stdout",
     "output_type": "stream",
     "text": [
      "reward= -0.04\n"
     ]
    },
    {
     "data": {
      "text/plain": [
       "<matplotlib.image.AxesImage at 0x7ee3a1d579d0>"
      ]
     },
     "execution_count": 6,
     "metadata": {},
     "output_type": "execute_result"
    },
    {
     "data": {
      "image/png": "[encoded data removed]",
      "text/plain": [
       "<Figure size 640x480 with 1 Axes>"
      ]
     },
     "metadata": {},
     "output_type": "display_data"
    }
   ],
   "source": [
    "qmaze = TreasureMaze(maze)\n",
    "canvas, reward, game_over = qmaze.act(DOWN)\n",
    "print(\"reward=\", reward)\n",
    "show(qmaze)"
   ]
  },
  {
   "cell_type": "markdown",
   "metadata": {},
   "source": [
    "This function simulates a full game based on the provided trained model. The other parameters include the TreasureMaze object and the starting position of the pirate."
   ]
  },
  {
   "cell_type": "code",
   "execution_count": 7,
   "metadata": {},
   "outputs": [],
   "source": [
    "def play_game(model, qmaze, pirate_cell, max_steps=None):\n",
    "    qmaze.reset(pirate_cell)\n",
    "    envstate = qmaze.observe()\n",
    "    steps = 0\n",
    "    if max_steps is None:\n",
    "        max_steps = qmaze.maze.size * 4  # safety cutoff\n",
    "\n",
    "    while steps < max_steps:\n",
    "        state = np.asarray(envstate, dtype=np.float32)\n",
    "        if state.ndim == 1:\n",
    "            state = np.expand_dims(state, axis=0)\n",
    "\n",
    "        q_values = model(state, training=False).numpy()\n",
    "        action = np.argmax(q_values[0])\n",
    "\n",
    "        envstate, reward, game_status = qmaze.act(action)\n",
    "        steps += 1\n",
    "\n",
    "        if game_status == 'win':\n",
    "            return True\n",
    "        elif game_status == 'lose':\n",
    "            return False\n",
    "\n",
    "    return False  # timed out with no result"
   ]
  },
  {
   "cell_type": "markdown",
   "metadata": {},
   "source": [
    "This function helps you to determine whether the pirate can win any game at all. If your maze is not well designed, the pirate may not win any game at all. In this case, your training would not yield any result. The provided maze in this notebook ensures that there is a path to win and you can run this method to check."
   ]
  },
  {
   "cell_type": "code",
   "execution_count": 8,
   "metadata": {},
   "outputs": [],
   "source": [
    "def completion_check(model, maze_or_qmaze, max_steps=None):\n",
    "    # Accept either raw numpy maze or TreasureMaze instance\n",
    "    if isinstance(maze_or_qmaze, TreasureMaze):\n",
    "        qmaze = maze_or_qmaze\n",
    "    else:\n",
    "        qmaze = TreasureMaze(maze_or_qmaze)\n",
    "\n",
    "    for cell in qmaze.free_cells:\n",
    "        if not qmaze.valid_actions(cell):\n",
    "            continue\n",
    "        if not play_game(model, qmaze, cell, max_steps=max_steps):\n",
    "            return False\n",
    "    return True"
   ]
  },
  {
   "cell_type": "markdown",
   "metadata": {},
   "source": [
    "The code you have been given in this block will build the neural network model. Review the code and note the number of layers, as well as the activation, optimizer, and loss functions that are used to train the model."
   ]
  },
  {
   "cell_type": "code",
   "execution_count": 9,
   "metadata": {},
   "outputs": [],
   "source": [
    "def build_model(maze):\n",
    "    model = Sequential()\n",
    "    model.add(Dense(maze.size, input_shape=(maze.size,)))\n",
    "    model.add(PReLU())\n",
    "    model.add(Dense(maze.size))\n",
    "    model.add(PReLU())\n",
    "    model.add(Dense(num_actions))\n",
    "    model.compile(optimizer='adam', loss='mse')\n",
    "    return model"
   ]
  },
  {
   "cell_type": "code",
   "execution_count": 10,
   "metadata": {},
   "outputs": [
    {
     "name": "stderr",
     "output_type": "stream",
     "text": [
      "E0000 00:00:1760841061.636829     298 cuda_executor.cc:1228] INTERNAL: CUDA Runtime error: Failed call to cudaGetRuntimeVersion: Error loading CUDA libraries. GPU will not be used.: Error loading CUDA libraries. GPU will not be used.\n",
      "W0000 00:00:1760841061.641266     298 gpu_device.cc:2341] Cannot dlopen some GPU libraries. Please make sure the missing libraries mentioned above are installed properly if you would like to use GPU. Follow the guide at https://www.tensorflow.org/install/gpu for how to download and setup the required libraries for your platform.\n",
      "Skipping registering GPU devices...\n"
     ]
    }
   ],
   "source": [
    "loss_fn = tf.keras.losses.MeanSquaredError()\n",
    "optimizer = tf.keras.optimizers.Adam()\n",
    "\n",
    "@tf.function\n",
    "def train_step(x, y):\n",
    "    with tf.GradientTape() as tape:\n",
    "        q_values = model(x, training=True)\n",
    "        loss = loss_fn(y, q_values)\n",
    "    grads = tape.gradient(loss, model.trainable_variables)\n",
    "    optimizer.apply_gradients(zip(grads, model.trainable_variables))\n",
    "    return loss"
   ]
  },
  {
   "cell_type": "markdown",
   "metadata": {},
   "source": [
    "# #TODO: Complete the Q-Training Algorithm Code Block\n",
    "\n",
    "This is your deep Q-learning implementation. The goal of your deep Q-learning implementation is to find the best possible navigation sequence that results in reaching the treasure cell while maximizing the reward. In your implementation, you need to determine the optimal number of epochs to achieve a 100% win rate.\n",
    "\n",
    "You will need to complete the section starting with #pseudocode. The pseudocode has been included for you."
   ]
  },
  {
   "cell_type": "code",
   "execution_count": 14,
   "metadata": {},
   "outputs": [],
   "source": [
    "def qtrain(model, maze, **opt):\n",
    "    # exploration factor\n",
    "    global epsilon \n",
    "    \n",
    "    # Number of epochs\n",
    "    n_epoch = opt.get('n_epoch', 15000)\n",
    "    \n",
    "    # Maximum meory to store episodes\n",
    "    max_memory = opt.get('max_memory', 1000)\n",
    "    \n",
    "    # Maximum data size for training\n",
    "    data_size = opt.get('data_size', 50)\n",
    "    \n",
    "    # Frequency of target network updates\n",
    "    target_update_freq = opt.get('target_update_freq', 50)\n",
    "    \n",
    "    # Start time\n",
    "    start_time = datetime.datetime.now()\n",
    "    \n",
    "    # Construct environment/game from numpy array: maze (see argument above)\n",
    "    qmaze = TreasureMaze(maze)\n",
    "    \n",
    "    # Target Network to better guide training\n",
    "    target_model = clone_model(model)\n",
    "    target_model.set_weights(model.get_weights())\n",
    "    \n",
    "    # Initialize experience replay object\n",
    "    experience = GameExperience(model, target_model, max_memory)\n",
    "\n",
    "    win_history = [] # history of win/lose game\n",
    "    hsize = qmaze.maze.size // 2 #history window size\n",
    "    win_rate = 0.0\n",
    "    \n",
    "    # START_HERE\n",
    "    for epoch in range(n_epoch):\n",
    "        loss = 0.0\n",
    "        n_episodes = 0\n",
    "\n",
    "        # Reset environment at a random starting cell\n",
    "        agent_cell = random.choice(qmaze.free_cells)\n",
    "        qmaze.reset(agent_cell)\n",
    "\n",
    "        # Set initial environment state\n",
    "        env_state = qmaze.observe()\n",
    "\n",
    "\n",
    "        game_over = False\n",
    "\n",
    "        while not game_over:\n",
    "            previous_envstate = env_state\n",
    "\n",
    "            # --- Action selection (Exploration vs Exploitation) ---\n",
    "            if np.random.rand() < epsilon:\n",
    "                # Exploration: choose random valid action\n",
    "                valid_actions = qmaze.valid_actions()\n",
    "                action = random.choice(valid_actions)\n",
    "            else:\n",
    "                # Exploitation: choose best action from the model\n",
    "                q_values = experience.predict(previous_envstate)\n",
    "                action = np.argmax(q_values)\n",
    "            # --- Take action and observe results ---\n",
    "            env_state, reward, game_status = qmaze.act(action)\n",
    "            game_over = (game_status != 'not_over')\n",
    "\n",
    "            # --- Record win/loss ---\n",
    "            if game_status == 'win':\n",
    "                win_history.append(1)\n",
    "            elif game_status == 'lose':\n",
    "                win_history.append(0)\n",
    "\n",
    "            # --- Store episode in replay memory ---\n",
    "            episode = [previous_envstate, action, reward, env_state, game_status]\n",
    "            experience.remember(episode)\n",
    "\n",
    "            # --- Train the neural network using replay data ---\n",
    "            inputs, targets = experience.get_data(data_size)\n",
    "            if inputs is not None:\n",
    "                batch_loss = model.train_on_batch(inputs, targets)\n",
    "                loss += batch_loss\n",
    "\n",
    "            n_episodes += 1\n",
    "\n",
    "        # --- Update the target network periodically ---\n",
    "        if epoch % target_update_freq == 0:\n",
    "            target_model.set_weights(model.get_weights())\n",
    "\n",
    "        # --- Compute win rate over recent history ---\n",
    "        hsize = qmaze.maze.size // 2\n",
    "        win_rate = sum(win_history[-hsize:]) / hsize if len(win_history) >= hsize else 0.0\n",
    "\n",
    "        # Print the epoch, loss, episode, win count, win rate, and time for each epoch\n",
    "        dt = datetime.datetime.now() - start_time\n",
    "        t = format_time(dt.total_seconds())\n",
    "        print(\"Epoch: {:03d}/{:d} | Loss: {:.4f} | Episodes: {:d} | Win count: {:d} | Win rate: {:.3f} | time: {}\".format(\n",
    "            epoch, n_epoch-1, loss, n_episodes, sum(win_history), win_rate, t))\n",
    "\n",
    "        # Check if training has exhausted all free cells and if in all\n",
    "        # cases the agent won\n",
    "        if win_rate > 0.9:\n",
    "            epsilon = 0.05\n",
    "        else:\n",
    "            epsilon = max(epsilon * epsilon_decay, epsilon_min)\n",
    "    \n",
    "        if win_rate >= 0.999 and completion_check(model, maze):\n",
    "            print(f\"Reached 100% win rate at epoch {epoch}\")\n",
    "            break\n",
    "\n",
    "    total_time = format_time((datetime.datetime.now() - start_time).total_seconds())\n",
    "    print(\"Training complete in:\", total_time)\n",
    "\n",
    "\n",
    "# This is a small utility for printing readable time strings:\n",
    "def format_time(seconds):\n",
    "    if seconds < 400:\n",
    "        s = float(seconds)\n",
    "        return \"%.1f seconds\" % (s,)\n",
    "    elif seconds < 4000:\n",
    "        m = seconds / 60.0\n",
    "        return \"%.2f minutes\" % (m,)\n",
    "    else:\n",
    "        h = seconds / 3600.0\n",
    "        return \"%.2f hours\" % (h,)"
   ]
  },
  {
   "cell_type": "markdown",
   "metadata": {},
   "source": [
    "## Test Your Model\n",
    "\n",
    "Now we will start testing the deep Q-learning implementation. To begin, select **Cell**, then **Run All** from the menu bar. This will run your notebook. As it runs, you should see output begin to appear beneath the next few cells. The code below creates an instance of TreasureMaze."
   ]
  },
  {
   "cell_type": "code",
   "execution_count": 15,
   "metadata": {},
   "outputs": [
    {
     "data": {
      "text/plain": [
       "<matplotlib.image.AxesImage at 0x7ee2e4a11a10>"
      ]
     },
     "execution_count": 15,
     "metadata": {},
     "output_type": "execute_result"
    },
    {
     "data": {
      "image/png": "[encoded data removed]",
      "text/plain": [
       "<Figure size 640x480 with 1 Axes>"
      ]
     },
     "metadata": {},
     "output_type": "display_data"
    }
   ],
   "source": [
    "qmaze = TreasureMaze(maze)\n",
    "show(qmaze)"
   ]
  },
  {
   "cell_type": "markdown",
   "metadata": {},
   "source": [
    "In the next code block, you will build your model and train it using deep Q-learning. Note: This step takes several minutes to fully run."
   ]
  },
  {
   "cell_type": "code",
   "execution_count": null,
   "metadata": {},
   "outputs": [],
   "source": []
  },
  {
   "cell_type": "code",
   "execution_count": 16,
   "metadata": {},
   "outputs": [
    {
     "name": "stdout",
     "output_type": "stream",
     "text": [
      "Epoch: 000/999 | Loss: 11.7228 | Episodes: 154 | Win count: 0 | Win rate: 0.000 | time: 4.5 seconds\n",
      "Epoch: 001/999 | Loss: 0.4263 | Episodes: 18 | Win count: 1 | Win rate: 0.000 | time: 4.9 seconds\n",
      "Epoch: 002/999 | Loss: 2.6490 | Episodes: 154 | Win count: 1 | Win rate: 0.000 | time: 7.7 seconds\n",
      "Epoch: 003/999 | Loss: 1.6337 | Episodes: 139 | Win count: 1 | Win rate: 0.000 | time: 10.4 seconds\n",
      "Epoch: 004/999 | Loss: 1.3632 | Episodes: 148 | Win count: 1 | Win rate: 0.000 | time: 13.2 seconds\n",
      "Epoch: 005/999 | Loss: 0.5812 | Episodes: 73 | Win count: 2 | Win rate: 0.000 | time: 14.6 seconds\n",
      "Epoch: 006/999 | Loss: 1.0573 | Episodes: 149 | Win count: 2 | Win rate: 0.000 | time: 17.5 seconds\n",
      "Epoch: 007/999 | Loss: 0.9729 | Episodes: 155 | Win count: 2 | Win rate: 0.000 | time: 20.3 seconds\n",
      "Epoch: 008/999 | Loss: 0.8659 | Episodes: 152 | Win count: 2 | Win rate: 0.000 | time: 23.0 seconds\n",
      "Epoch: 009/999 | Loss: 0.4647 | Episodes: 87 | Win count: 3 | Win rate: 0.000 | time: 24.6 seconds\n",
      "Epoch: 010/999 | Loss: 0.7324 | Episodes: 144 | Win count: 3 | Win rate: 0.000 | time: 27.2 seconds\n",
      "Epoch: 011/999 | Loss: 0.7455 | Episodes: 155 | Win count: 3 | Win rate: 0.000 | time: 30.1 seconds\n",
      "Epoch: 012/999 | Loss: 0.6392 | Episodes: 140 | Win count: 3 | Win rate: 0.000 | time: 32.6 seconds\n",
      "Epoch: 013/999 | Loss: 0.6246 | Episodes: 143 | Win count: 3 | Win rate: 0.000 | time: 35.2 seconds\n",
      "Epoch: 014/999 | Loss: 0.6010 | Episodes: 145 | Win count: 3 | Win rate: 0.000 | time: 37.8 seconds\n",
      "Epoch: 015/999 | Loss: 0.0846 | Episodes: 21 | Win count: 4 | Win rate: 0.000 | time: 38.2 seconds\n",
      "Epoch: 016/999 | Loss: 0.5902 | Episodes: 150 | Win count: 4 | Win rate: 0.000 | time: 41.1 seconds\n",
      "Epoch: 017/999 | Loss: 0.4809 | Episodes: 126 | Win count: 5 | Win rate: 0.000 | time: 43.5 seconds\n",
      "Epoch: 018/999 | Loss: 0.5636 | Episodes: 151 | Win count: 5 | Win rate: 0.000 | time: 46.3 seconds\n",
      "Epoch: 019/999 | Loss: 0.3306 | Episodes: 90 | Win count: 6 | Win rate: 0.000 | time: 48.0 seconds\n",
      "Epoch: 020/999 | Loss: 0.5397 | Episodes: 148 | Win count: 6 | Win rate: 0.000 | time: 50.7 seconds\n",
      "Epoch: 021/999 | Loss: 0.5775 | Episodes: 160 | Win count: 6 | Win rate: 0.000 | time: 53.7 seconds\n",
      "Epoch: 022/999 | Loss: 0.4926 | Episodes: 138 | Win count: 6 | Win rate: 0.000 | time: 56.2 seconds\n",
      "Epoch: 023/999 | Loss: 0.5377 | Episodes: 153 | Win count: 6 | Win rate: 0.000 | time: 59.0 seconds\n",
      "Epoch: 024/999 | Loss: 0.5142 | Episodes: 150 | Win count: 6 | Win rate: 0.000 | time: 61.8 seconds\n",
      "Epoch: 025/999 | Loss: 0.5077 | Episodes: 152 | Win count: 6 | Win rate: 0.000 | time: 64.7 seconds\n",
      "Epoch: 026/999 | Loss: 0.4535 | Episodes: 139 | Win count: 6 | Win rate: 0.000 | time: 67.3 seconds\n",
      "Epoch: 027/999 | Loss: 0.4879 | Episodes: 153 | Win count: 6 | Win rate: 0.000 | time: 70.2 seconds\n",
      "Epoch: 028/999 | Loss: 0.4552 | Episodes: 146 | Win count: 6 | Win rate: 0.000 | time: 72.9 seconds\n",
      "Epoch: 029/999 | Loss: 0.3397 | Episodes: 111 | Win count: 7 | Win rate: 0.000 | time: 75.4 seconds\n",
      "Epoch: 030/999 | Loss: 0.4536 | Episodes: 150 | Win count: 7 | Win rate: 0.000 | time: 78.6 seconds\n",
      "Epoch: 031/999 | Loss: 0.3600 | Episodes: 120 | Win count: 8 | Win rate: 0.250 | time: 81.0 seconds\n",
      "Epoch: 032/999 | Loss: 0.4300 | Episodes: 144 | Win count: 8 | Win rate: 0.250 | time: 83.9 seconds\n",
      "Epoch: 033/999 | Loss: 0.4144 | Episodes: 139 | Win count: 8 | Win rate: 0.219 | time: 86.8 seconds\n",
      "Epoch: 034/999 | Loss: 0.0238 | Episodes: 8 | Win count: 9 | Win rate: 0.250 | time: 87.0 seconds\n",
      "Epoch: 035/999 | Loss: 0.4360 | Episodes: 147 | Win count: 9 | Win rate: 0.250 | time: 90.1 seconds\n",
      "Epoch: 036/999 | Loss: 0.4100 | Episodes: 139 | Win count: 9 | Win rate: 0.250 | time: 93.5 seconds\n",
      "Epoch: 037/999 | Loss: 0.4373 | Episodes: 150 | Win count: 9 | Win rate: 0.219 | time: 96.8 seconds\n",
      "Epoch: 038/999 | Loss: 0.4163 | Episodes: 144 | Win count: 9 | Win rate: 0.219 | time: 99.7 seconds\n",
      "Epoch: 039/999 | Loss: 0.4192 | Episodes: 147 | Win count: 9 | Win rate: 0.219 | time: 102.9 seconds\n",
      "Epoch: 040/999 | Loss: 0.0791 | Episodes: 28 | Win count: 10 | Win rate: 0.250 | time: 103.5 seconds\n",
      "Epoch: 041/999 | Loss: 0.4053 | Episodes: 144 | Win count: 10 | Win rate: 0.219 | time: 106.5 seconds\n",
      "Epoch: 042/999 | Loss: 0.4112 | Episodes: 147 | Win count: 10 | Win rate: 0.219 | time: 109.3 seconds\n",
      "Epoch: 043/999 | Loss: 0.4176 | Episodes: 150 | Win count: 10 | Win rate: 0.219 | time: 112.2 seconds\n",
      "Epoch: 044/999 | Loss: 0.3339 | Episodes: 121 | Win count: 11 | Win rate: 0.250 | time: 114.6 seconds\n",
      "Epoch: 045/999 | Loss: 0.3913 | Episodes: 143 | Win count: 11 | Win rate: 0.250 | time: 117.4 seconds\n",
      "Epoch: 046/999 | Loss: 0.3767 | Episodes: 138 | Win count: 11 | Win rate: 0.250 | time: 120.0 seconds\n",
      "Epoch: 047/999 | Loss: 0.3935 | Episodes: 145 | Win count: 11 | Win rate: 0.219 | time: 122.9 seconds\n",
      "Epoch: 048/999 | Loss: 0.4118 | Episodes: 153 | Win count: 11 | Win rate: 0.219 | time: 125.9 seconds\n",
      "Epoch: 049/999 | Loss: 0.3698 | Episodes: 139 | Win count: 11 | Win rate: 0.188 | time: 128.8 seconds\n",
      "Epoch: 050/999 | Loss: 0.2399 | Episodes: 91 | Win count: 12 | Win rate: 0.219 | time: 130.5 seconds\n",
      "Epoch: 051/999 | Loss: 0.3759 | Episodes: 143 | Win count: 12 | Win rate: 0.188 | time: 133.3 seconds\n",
      "Epoch: 052/999 | Loss: 0.3990 | Episodes: 152 | Win count: 12 | Win rate: 0.188 | time: 136.3 seconds\n",
      "Epoch: 053/999 | Loss: 0.1020 | Episodes: 39 | Win count: 13 | Win rate: 0.219 | time: 137.0 seconds\n",
      "Epoch: 054/999 | Loss: 0.3926 | Episodes: 150 | Win count: 13 | Win rate: 0.219 | time: 140.0 seconds\n",
      "Epoch: 055/999 | Loss: 0.4108 | Episodes: 157 | Win count: 13 | Win rate: 0.219 | time: 143.0 seconds\n",
      "Epoch: 056/999 | Loss: 0.0026 | Episodes: 1 | Win count: 14 | Win rate: 0.250 | time: 143.0 seconds\n",
      "Epoch: 057/999 | Loss: 0.1830 | Episodes: 70 | Win count: 15 | Win rate: 0.281 | time: 144.3 seconds\n",
      "Epoch: 058/999 | Loss: 0.2177 | Episodes: 83 | Win count: 16 | Win rate: 0.312 | time: 146.0 seconds\n",
      "Epoch: 059/999 | Loss: 0.3112 | Episodes: 118 | Win count: 17 | Win rate: 0.344 | time: 148.4 seconds\n",
      "Epoch: 060/999 | Loss: 0.0026 | Episodes: 1 | Win count: 18 | Win rate: 0.375 | time: 148.4 seconds\n",
      "Epoch: 061/999 | Loss: 0.3750 | Episodes: 142 | Win count: 18 | Win rate: 0.344 | time: 151.2 seconds\n",
      "Epoch: 062/999 | Loss: 0.0712 | Episodes: 27 | Win count: 19 | Win rate: 0.375 | time: 151.7 seconds\n",
      "Epoch: 063/999 | Loss: 0.3975 | Episodes: 151 | Win count: 19 | Win rate: 0.344 | time: 154.7 seconds\n",
      "Epoch: 064/999 | Loss: 0.3771 | Episodes: 144 | Win count: 19 | Win rate: 0.344 | time: 157.6 seconds\n",
      "Epoch: 065/999 | Loss: 0.3693 | Episodes: 142 | Win count: 19 | Win rate: 0.344 | time: 160.6 seconds\n",
      "Epoch: 066/999 | Loss: 0.3791 | Episodes: 147 | Win count: 19 | Win rate: 0.312 | time: 163.5 seconds\n",
      "Epoch: 067/999 | Loss: 0.0077 | Episodes: 3 | Win count: 20 | Win rate: 0.344 | time: 163.6 seconds\n",
      "Epoch: 068/999 | Loss: 0.4217 | Episodes: 165 | Win count: 20 | Win rate: 0.344 | time: 167.0 seconds\n",
      "Epoch: 069/999 | Loss: 0.2795 | Episodes: 110 | Win count: 21 | Win rate: 0.375 | time: 169.2 seconds\n",
      "Epoch: 070/999 | Loss: 0.3519 | Episodes: 139 | Win count: 21 | Win rate: 0.375 | time: 172.1 seconds\n",
      "Epoch: 071/999 | Loss: 0.0101 | Episodes: 4 | Win count: 22 | Win rate: 0.406 | time: 172.2 seconds\n",
      "Epoch: 072/999 | Loss: 0.0959 | Episodes: 38 | Win count: 23 | Win rate: 0.406 | time: 172.9 seconds\n",
      "Epoch: 073/999 | Loss: 0.3602 | Episodes: 143 | Win count: 23 | Win rate: 0.406 | time: 175.9 seconds\n",
      "Epoch: 074/999 | Loss: 0.3635 | Episodes: 145 | Win count: 23 | Win rate: 0.406 | time: 178.7 seconds\n",
      "Epoch: 075/999 | Loss: 0.3114 | Episodes: 125 | Win count: 24 | Win rate: 0.438 | time: 181.4 seconds\n",
      "Epoch: 076/999 | Loss: 0.1092 | Episodes: 44 | Win count: 25 | Win rate: 0.438 | time: 182.3 seconds\n",
      "Epoch: 077/999 | Loss: 0.3614 | Episodes: 146 | Win count: 26 | Win rate: 0.469 | time: 185.2 seconds\n",
      "Epoch: 078/999 | Loss: 0.0519 | Episodes: 21 | Win count: 27 | Win rate: 0.500 | time: 185.7 seconds\n",
      "Epoch: 079/999 | Loss: 0.3712 | Episodes: 150 | Win count: 27 | Win rate: 0.500 | time: 188.8 seconds\n",
      "Epoch: 080/999 | Loss: 0.2719 | Episodes: 110 | Win count: 28 | Win rate: 0.531 | time: 190.9 seconds\n",
      "Epoch: 081/999 | Loss: 0.0592 | Episodes: 24 | Win count: 29 | Win rate: 0.562 | time: 191.4 seconds\n"
     ]
    },
    {
     "name": "stdout",
     "output_type": "stream",
     "text": [
      "Epoch: 082/999 | Loss: 0.3550 | Episodes: 144 | Win count: 29 | Win rate: 0.531 | time: 194.4 seconds\n",
      "Epoch: 083/999 | Loss: 0.3416 | Episodes: 139 | Win count: 29 | Win rate: 0.531 | time: 197.3 seconds\n",
      "Epoch: 084/999 | Loss: 0.1910 | Episodes: 78 | Win count: 30 | Win rate: 0.562 | time: 198.9 seconds\n",
      "Epoch: 085/999 | Loss: 0.1490 | Episodes: 61 | Win count: 31 | Win rate: 0.562 | time: 200.1 seconds\n",
      "Epoch: 086/999 | Loss: 0.3408 | Episodes: 140 | Win count: 31 | Win rate: 0.562 | time: 203.1 seconds\n",
      "Epoch: 087/999 | Loss: 0.0024 | Episodes: 1 | Win count: 32 | Win rate: 0.594 | time: 203.2 seconds\n",
      "Epoch: 088/999 | Loss: 0.0024 | Episodes: 1 | Win count: 33 | Win rate: 0.594 | time: 203.2 seconds\n",
      "Epoch: 089/999 | Loss: 0.3364 | Episodes: 139 | Win count: 33 | Win rate: 0.562 | time: 206.0 seconds\n",
      "Epoch: 090/999 | Loss: 0.0964 | Episodes: 40 | Win count: 34 | Win rate: 0.562 | time: 206.8 seconds\n",
      "Epoch: 091/999 | Loss: 0.1203 | Episodes: 50 | Win count: 35 | Win rate: 0.562 | time: 207.8 seconds\n",
      "Epoch: 092/999 | Loss: 0.2017 | Episodes: 84 | Win count: 36 | Win rate: 0.562 | time: 209.5 seconds\n",
      "Epoch: 093/999 | Loss: 0.3589 | Episodes: 150 | Win count: 36 | Win rate: 0.562 | time: 212.8 seconds\n",
      "Epoch: 094/999 | Loss: 0.3310 | Episodes: 139 | Win count: 36 | Win rate: 0.531 | time: 215.7 seconds\n",
      "Epoch: 095/999 | Loss: 0.3297 | Episodes: 139 | Win count: 37 | Win rate: 0.562 | time: 218.6 seconds\n",
      "Epoch: 096/999 | Loss: 0.1986 | Episodes: 84 | Win count: 38 | Win rate: 0.594 | time: 220.5 seconds\n",
      "Epoch: 097/999 | Loss: 0.3344 | Episodes: 142 | Win count: 39 | Win rate: 0.625 | time: 223.3 seconds\n",
      "Epoch: 098/999 | Loss: 0.1761 | Episodes: 75 | Win count: 40 | Win rate: 0.656 | time: 224.9 seconds\n",
      "Epoch: 099/999 | Loss: 0.0962 | Episodes: 41 | Win count: 41 | Win rate: 0.656 | time: 225.7 seconds\n",
      "Epoch: 100/999 | Loss: 0.1923 | Episodes: 82 | Win count: 42 | Win rate: 0.688 | time: 227.5 seconds\n",
      "Epoch: 101/999 | Loss: 0.1830 | Episodes: 78 | Win count: 43 | Win rate: 0.688 | time: 229.2 seconds\n",
      "Epoch: 102/999 | Loss: 0.2157 | Episodes: 92 | Win count: 44 | Win rate: 0.719 | time: 231.1 seconds\n",
      "Epoch: 103/999 | Loss: 0.1031 | Episodes: 44 | Win count: 45 | Win rate: 0.719 | time: 232.1 seconds\n",
      "Epoch: 104/999 | Loss: 0.0023 | Episodes: 1 | Win count: 46 | Win rate: 0.719 | time: 232.1 seconds\n",
      "Epoch: 105/999 | Loss: 0.3532 | Episodes: 151 | Win count: 46 | Win rate: 0.719 | time: 235.3 seconds\n",
      "Epoch: 106/999 | Loss: 0.1261 | Episodes: 54 | Win count: 47 | Win rate: 0.750 | time: 236.4 seconds\n",
      "Epoch: 107/999 | Loss: 0.3358 | Episodes: 144 | Win count: 47 | Win rate: 0.719 | time: 239.4 seconds\n",
      "Epoch: 108/999 | Loss: 0.0303 | Episodes: 13 | Win count: 48 | Win rate: 0.719 | time: 239.7 seconds\n",
      "Epoch: 109/999 | Loss: 0.3485 | Episodes: 150 | Win count: 48 | Win rate: 0.688 | time: 242.9 seconds\n",
      "Epoch: 110/999 | Loss: 0.3519 | Episodes: 152 | Win count: 48 | Win rate: 0.656 | time: 246.2 seconds\n",
      "Epoch: 111/999 | Loss: 0.0023 | Episodes: 1 | Win count: 49 | Win rate: 0.688 | time: 246.3 seconds\n",
      "Epoch: 112/999 | Loss: 0.0508 | Episodes: 22 | Win count: 50 | Win rate: 0.688 | time: 246.8 seconds\n",
      "Epoch: 113/999 | Loss: 0.1914 | Episodes: 83 | Win count: 51 | Win rate: 0.688 | time: 248.8 seconds\n",
      "Epoch: 114/999 | Loss: 0.1910 | Episodes: 83 | Win count: 52 | Win rate: 0.719 | time: 250.8 seconds\n",
      "Epoch: 115/999 | Loss: 0.1816 | Episodes: 79 | Win count: 53 | Win rate: 0.750 | time: 252.7 seconds\n",
      "Epoch: 116/999 | Loss: 0.3371 | Episodes: 147 | Win count: 53 | Win rate: 0.719 | time: 256.2 seconds\n",
      "Epoch: 117/999 | Loss: 0.2289 | Episodes: 100 | Win count: 54 | Win rate: 0.719 | time: 258.7 seconds\n",
      "Epoch: 118/999 | Loss: 0.2354 | Episodes: 103 | Win count: 55 | Win rate: 0.750 | time: 261.1 seconds\n",
      "Epoch: 119/999 | Loss: 0.1004 | Episodes: 44 | Win count: 56 | Win rate: 0.750 | time: 262.2 seconds\n",
      "Epoch: 120/999 | Loss: 0.1892 | Episodes: 83 | Win count: 57 | Win rate: 0.750 | time: 264.2 seconds\n",
      "Epoch: 121/999 | Loss: 0.2481 | Episodes: 109 | Win count: 58 | Win rate: 0.781 | time: 266.7 seconds\n",
      "Epoch: 122/999 | Loss: 0.2683 | Episodes: 118 | Win count: 59 | Win rate: 0.781 | time: 269.6 seconds\n",
      "Epoch: 123/999 | Loss: 0.2545 | Episodes: 112 | Win count: 60 | Win rate: 0.781 | time: 272.2 seconds\n",
      "Epoch: 124/999 | Loss: 0.3541 | Episodes: 156 | Win count: 60 | Win rate: 0.750 | time: 276.1 seconds\n",
      "Epoch: 125/999 | Loss: 0.3489 | Episodes: 154 | Win count: 61 | Win rate: 0.781 | time: 279.8 seconds\n",
      "Epoch: 126/999 | Loss: 0.0045 | Episodes: 2 | Win count: 62 | Win rate: 0.812 | time: 279.9 seconds\n",
      "Epoch: 127/999 | Loss: 0.3615 | Episodes: 160 | Win count: 62 | Win rate: 0.781 | time: 283.5 seconds\n",
      "Epoch: 128/999 | Loss: 0.0023 | Episodes: 1 | Win count: 63 | Win rate: 0.781 | time: 283.5 seconds\n",
      "Epoch: 129/999 | Loss: 0.0135 | Episodes: 6 | Win count: 64 | Win rate: 0.781 | time: 283.6 seconds\n",
      "Epoch: 130/999 | Loss: 0.3222 | Episodes: 143 | Win count: 65 | Win rate: 0.781 | time: 286.7 seconds\n",
      "Epoch: 131/999 | Loss: 0.3150 | Episodes: 140 | Win count: 65 | Win rate: 0.750 | time: 289.7 seconds\n",
      "Epoch: 132/999 | Loss: 0.0472 | Episodes: 21 | Win count: 66 | Win rate: 0.750 | time: 290.2 seconds\n",
      "Epoch: 133/999 | Loss: 0.3231 | Episodes: 144 | Win count: 66 | Win rate: 0.719 | time: 293.4 seconds\n",
      "Epoch: 134/999 | Loss: 0.1389 | Episodes: 62 | Win count: 67 | Win rate: 0.719 | time: 294.8 seconds\n",
      "Epoch: 135/999 | Loss: 0.1008 | Episodes: 45 | Win count: 68 | Win rate: 0.719 | time: 295.8 seconds\n",
      "Epoch: 136/999 | Loss: 0.2705 | Episodes: 121 | Win count: 69 | Win rate: 0.719 | time: 298.5 seconds\n",
      "Epoch: 137/999 | Loss: 0.0670 | Episodes: 30 | Win count: 70 | Win rate: 0.750 | time: 299.1 seconds\n",
      "Epoch: 138/999 | Loss: 0.0981 | Episodes: 44 | Win count: 71 | Win rate: 0.750 | time: 300.0 seconds\n",
      "Epoch: 139/999 | Loss: 0.0758 | Episodes: 34 | Win count: 72 | Win rate: 0.781 | time: 300.7 seconds\n",
      "Epoch: 140/999 | Loss: 0.0401 | Episodes: 18 | Win count: 73 | Win rate: 0.781 | time: 301.1 seconds\n",
      "Epoch: 141/999 | Loss: 0.0490 | Episodes: 22 | Win count: 74 | Win rate: 0.812 | time: 301.5 seconds\n",
      "Epoch: 142/999 | Loss: 0.0045 | Episodes: 2 | Win count: 75 | Win rate: 0.844 | time: 301.6 seconds\n",
      "Epoch: 143/999 | Loss: 0.0468 | Episodes: 21 | Win count: 76 | Win rate: 0.844 | time: 302.0 seconds\n",
      "Epoch: 144/999 | Loss: 0.0334 | Episodes: 15 | Win count: 77 | Win rate: 0.844 | time: 302.4 seconds\n",
      "Epoch: 145/999 | Loss: 0.3160 | Episodes: 142 | Win count: 77 | Win rate: 0.812 | time: 305.4 seconds\n",
      "Epoch: 146/999 | Loss: 0.1333 | Episodes: 60 | Win count: 78 | Win rate: 0.812 | time: 306.8 seconds\n",
      "Epoch: 147/999 | Loss: 0.3151 | Episodes: 142 | Win count: 78 | Win rate: 0.781 | time: 309.9 seconds\n",
      "Epoch: 148/999 | Loss: 0.0066 | Episodes: 3 | Win count: 79 | Win rate: 0.812 | time: 310.0 seconds\n",
      "Epoch: 149/999 | Loss: 0.2280 | Episodes: 103 | Win count: 80 | Win rate: 0.812 | time: 312.3 seconds\n",
      "Epoch: 150/999 | Loss: 0.0663 | Episodes: 30 | Win count: 81 | Win rate: 0.812 | time: 313.0 seconds\n",
      "Epoch: 151/999 | Loss: 0.0066 | Episodes: 3 | Win count: 82 | Win rate: 0.812 | time: 313.1 seconds\n",
      "Epoch: 152/999 | Loss: 0.0287 | Episodes: 13 | Win count: 83 | Win rate: 0.812 | time: 313.3 seconds\n",
      "Epoch: 153/999 | Loss: 0.0133 | Episodes: 6 | Win count: 84 | Win rate: 0.812 | time: 313.4 seconds\n",
      "Epoch: 154/999 | Loss: 0.0464 | Episodes: 21 | Win count: 85 | Win rate: 0.812 | time: 313.9 seconds\n",
      "Epoch: 155/999 | Loss: 0.0596 | Episodes: 27 | Win count: 86 | Win rate: 0.812 | time: 314.5 seconds\n",
      "Epoch: 156/999 | Loss: 0.0684 | Episodes: 31 | Win count: 87 | Win rate: 0.844 | time: 315.2 seconds\n",
      "Epoch: 157/999 | Loss: 0.1476 | Episodes: 67 | Win count: 88 | Win rate: 0.844 | time: 316.6 seconds\n",
      "Epoch: 158/999 | Loss: 0.0066 | Episodes: 3 | Win count: 89 | Win rate: 0.844 | time: 316.7 seconds\n",
      "Epoch: 159/999 | Loss: 0.2663 | Episodes: 121 | Win count: 90 | Win rate: 0.875 | time: 319.3 seconds\n",
      "Epoch: 160/999 | Loss: 0.2834 | Episodes: 129 | Win count: 91 | Win rate: 0.875 | time: 322.1 seconds\n",
      "Epoch: 161/999 | Loss: 0.2282 | Episodes: 104 | Win count: 92 | Win rate: 0.875 | time: 324.4 seconds\n",
      "Epoch: 162/999 | Loss: 0.3397 | Episodes: 155 | Win count: 93 | Win rate: 0.875 | time: 327.9 seconds\n"
     ]
    },
    {
     "name": "stdout",
     "output_type": "stream",
     "text": [
      "Epoch: 163/999 | Loss: 0.0941 | Episodes: 43 | Win count: 94 | Win rate: 0.906 | time: 328.8 seconds\n",
      "Epoch: 164/999 | Loss: 0.0525 | Episodes: 24 | Win count: 95 | Win rate: 0.906 | time: 329.3 seconds\n",
      "Epoch: 165/999 | Loss: 0.1050 | Episodes: 48 | Win count: 96 | Win rate: 0.938 | time: 330.5 seconds\n",
      "Epoch: 166/999 | Loss: 0.0109 | Episodes: 5 | Win count: 97 | Win rate: 0.938 | time: 330.7 seconds\n",
      "Epoch: 167/999 | Loss: 0.0044 | Episodes: 2 | Win count: 98 | Win rate: 0.938 | time: 330.7 seconds\n",
      "Epoch: 168/999 | Loss: 0.0984 | Episodes: 45 | Win count: 99 | Win rate: 0.938 | time: 331.9 seconds\n",
      "Epoch: 169/999 | Loss: 0.0437 | Episodes: 20 | Win count: 100 | Win rate: 0.938 | time: 332.4 seconds\n",
      "Epoch: 170/999 | Loss: 0.1595 | Episodes: 73 | Win count: 101 | Win rate: 0.938 | time: 334.2 seconds\n",
      "Epoch: 171/999 | Loss: 0.0284 | Episodes: 13 | Win count: 102 | Win rate: 0.938 | time: 334.5 seconds\n",
      "Epoch: 172/999 | Loss: 0.2922 | Episodes: 134 | Win count: 102 | Win rate: 0.906 | time: 337.7 seconds\n",
      "Epoch: 173/999 | Loss: 0.0022 | Episodes: 1 | Win count: 103 | Win rate: 0.906 | time: 337.7 seconds\n",
      "Epoch: 174/999 | Loss: 0.0718 | Episodes: 33 | Win count: 104 | Win rate: 0.906 | time: 338.5 seconds\n",
      "Epoch: 175/999 | Loss: 0.2910 | Episodes: 134 | Win count: 104 | Win rate: 0.875 | time: 342.0 seconds\n",
      "Epoch: 176/999 | Loss: 0.0628 | Episodes: 29 | Win count: 105 | Win rate: 0.875 | time: 342.7 seconds\n",
      "Epoch: 177/999 | Loss: 0.1535 | Episodes: 71 | Win count: 106 | Win rate: 0.906 | time: 344.5 seconds\n",
      "Epoch: 178/999 | Loss: 0.0022 | Episodes: 1 | Win count: 107 | Win rate: 0.906 | time: 344.5 seconds\n",
      "Epoch: 179/999 | Loss: 0.0281 | Episodes: 13 | Win count: 108 | Win rate: 0.938 | time: 344.8 seconds\n",
      "Epoch: 180/999 | Loss: 0.0453 | Episodes: 21 | Win count: 109 | Win rate: 0.938 | time: 345.3 seconds\n",
      "Epoch: 181/999 | Loss: 0.0388 | Episodes: 18 | Win count: 110 | Win rate: 0.938 | time: 345.8 seconds\n",
      "Epoch: 182/999 | Loss: 0.0237 | Episodes: 11 | Win count: 111 | Win rate: 0.938 | time: 346.1 seconds\n",
      "Epoch: 183/999 | Loss: 0.0215 | Episodes: 10 | Win count: 112 | Win rate: 0.938 | time: 346.3 seconds\n",
      "Epoch: 184/999 | Loss: 0.0517 | Episodes: 24 | Win count: 113 | Win rate: 0.938 | time: 347.0 seconds\n",
      "Epoch: 185/999 | Loss: 0.1869 | Episodes: 87 | Win count: 114 | Win rate: 0.938 | time: 349.2 seconds\n",
      "Epoch: 186/999 | Loss: 0.0557 | Episodes: 26 | Win count: 115 | Win rate: 0.938 | time: 349.8 seconds\n",
      "Epoch: 187/999 | Loss: 0.0642 | Episodes: 30 | Win count: 116 | Win rate: 0.938 | time: 350.6 seconds\n",
      "Epoch: 188/999 | Loss: 0.1752 | Episodes: 82 | Win count: 117 | Win rate: 0.938 | time: 352.8 seconds\n",
      "Epoch: 189/999 | Loss: 0.0895 | Episodes: 42 | Win count: 118 | Win rate: 0.938 | time: 353.9 seconds\n",
      "Epoch: 190/999 | Loss: 0.0575 | Episodes: 27 | Win count: 119 | Win rate: 0.938 | time: 354.6 seconds\n",
      "Epoch: 191/999 | Loss: 0.0191 | Episodes: 9 | Win count: 120 | Win rate: 0.938 | time: 354.8 seconds\n",
      "Epoch: 192/999 | Loss: 0.0998 | Episodes: 47 | Win count: 121 | Win rate: 0.938 | time: 356.0 seconds\n",
      "Epoch: 193/999 | Loss: 0.0361 | Episodes: 17 | Win count: 122 | Win rate: 0.938 | time: 356.4 seconds\n",
      "Epoch: 194/999 | Loss: 0.0509 | Episodes: 24 | Win count: 123 | Win rate: 0.938 | time: 357.1 seconds\n",
      "Epoch: 195/999 | Loss: 0.2497 | Episodes: 118 | Win count: 124 | Win rate: 0.938 | time: 360.2 seconds\n",
      "Epoch: 196/999 | Loss: 0.0675 | Episodes: 32 | Win count: 125 | Win rate: 0.938 | time: 361.1 seconds\n",
      "Epoch: 197/999 | Loss: 0.0738 | Episodes: 35 | Win count: 126 | Win rate: 0.938 | time: 362.0 seconds\n",
      "Epoch: 198/999 | Loss: 0.0463 | Episodes: 22 | Win count: 127 | Win rate: 0.938 | time: 362.5 seconds\n",
      "Epoch: 199/999 | Loss: 0.0695 | Episodes: 33 | Win count: 128 | Win rate: 0.938 | time: 363.3 seconds\n",
      "Epoch: 200/999 | Loss: 0.0673 | Episodes: 32 | Win count: 129 | Win rate: 0.938 | time: 364.1 seconds\n",
      "Epoch: 201/999 | Loss: 0.0483 | Episodes: 23 | Win count: 130 | Win rate: 0.938 | time: 364.7 seconds\n",
      "Epoch: 202/999 | Loss: 0.1343 | Episodes: 64 | Win count: 131 | Win rate: 0.938 | time: 366.4 seconds\n",
      "Epoch: 203/999 | Loss: 0.0503 | Episodes: 24 | Win count: 132 | Win rate: 0.938 | time: 367.0 seconds\n",
      "Epoch: 204/999 | Loss: 0.0126 | Episodes: 6 | Win count: 133 | Win rate: 0.969 | time: 367.2 seconds\n",
      "Epoch: 205/999 | Loss: 0.0503 | Episodes: 24 | Win count: 134 | Win rate: 0.969 | time: 367.8 seconds\n",
      "Epoch: 206/999 | Loss: 0.0565 | Episodes: 27 | Win count: 135 | Win rate: 0.969 | time: 368.5 seconds\n",
      "Epoch: 207/999 | Loss: 0.0836 | Episodes: 40 | Win count: 136 | Win rate: 1.000 | time: 369.4 seconds\n",
      "Epoch: 208/999 | Loss: 0.0439 | Episodes: 21 | Win count: 137 | Win rate: 1.000 | time: 370.8 seconds\n",
      "Epoch: 209/999 | Loss: 0.0459 | Episodes: 22 | Win count: 138 | Win rate: 1.000 | time: 372.3 seconds\n",
      "Epoch: 210/999 | Loss: 0.0021 | Episodes: 1 | Win count: 139 | Win rate: 1.000 | time: 373.3 seconds\n",
      "Epoch: 211/999 | Loss: 0.1563 | Episodes: 75 | Win count: 140 | Win rate: 1.000 | time: 376.3 seconds\n",
      "Epoch: 212/999 | Loss: 0.0833 | Episodes: 40 | Win count: 141 | Win rate: 1.000 | time: 378.5 seconds\n",
      "Epoch: 213/999 | Loss: 0.2678 | Episodes: 129 | Win count: 141 | Win rate: 0.969 | time: 382.9 seconds\n",
      "Epoch: 214/999 | Loss: 0.0455 | Episodes: 22 | Win count: 142 | Win rate: 0.969 | time: 383.4 seconds\n",
      "Epoch: 215/999 | Loss: 0.0476 | Episodes: 23 | Win count: 143 | Win rate: 0.969 | time: 384.0 seconds\n",
      "Epoch: 216/999 | Loss: 0.0083 | Episodes: 4 | Win count: 144 | Win rate: 0.969 | time: 384.1 seconds\n",
      "Epoch: 217/999 | Loss: 0.0599 | Episodes: 29 | Win count: 145 | Win rate: 0.969 | time: 384.7 seconds\n",
      "Epoch: 218/999 | Loss: 0.0165 | Episodes: 8 | Win count: 146 | Win rate: 0.969 | time: 384.9 seconds\n",
      "Epoch: 219/999 | Loss: 0.1402 | Episodes: 68 | Win count: 147 | Win rate: 0.969 | time: 386.6 seconds\n",
      "Epoch: 220/999 | Loss: 0.2650 | Episodes: 129 | Win count: 147 | Win rate: 0.938 | time: 389.9 seconds\n",
      "Epoch: 221/999 | Loss: 0.0450 | Episodes: 22 | Win count: 148 | Win rate: 0.938 | time: 390.5 seconds\n",
      "Epoch: 222/999 | Loss: 0.0389 | Episodes: 19 | Win count: 149 | Win rate: 0.938 | time: 390.9 seconds\n",
      "Epoch: 223/999 | Loss: 0.0552 | Episodes: 27 | Win count: 150 | Win rate: 0.938 | time: 391.6 seconds\n",
      "Epoch: 224/999 | Loss: 0.0102 | Episodes: 5 | Win count: 151 | Win rate: 0.938 | time: 391.8 seconds\n",
      "Epoch: 225/999 | Loss: 0.0469 | Episodes: 23 | Win count: 152 | Win rate: 0.938 | time: 392.4 seconds\n",
      "Epoch: 226/999 | Loss: 0.0591 | Episodes: 29 | Win count: 153 | Win rate: 0.938 | time: 393.2 seconds\n",
      "Epoch: 227/999 | Loss: 0.0550 | Episodes: 27 | Win count: 154 | Win rate: 0.938 | time: 393.9 seconds\n",
      "Epoch: 228/999 | Loss: 0.0569 | Episodes: 28 | Win count: 155 | Win rate: 0.938 | time: 394.6 seconds\n",
      "Epoch: 229/999 | Loss: 0.0406 | Episodes: 20 | Win count: 156 | Win rate: 0.938 | time: 395.1 seconds\n",
      "Epoch: 230/999 | Loss: 0.0487 | Episodes: 24 | Win count: 157 | Win rate: 0.938 | time: 395.7 seconds\n",
      "Epoch: 231/999 | Loss: 0.1882 | Episodes: 93 | Win count: 158 | Win rate: 0.938 | time: 398.1 seconds\n",
      "Epoch: 232/999 | Loss: 0.0404 | Episodes: 20 | Win count: 159 | Win rate: 0.938 | time: 398.6 seconds\n",
      "Epoch: 233/999 | Loss: 0.2674 | Episodes: 133 | Win count: 160 | Win rate: 0.938 | time: 6.70 minutes\n",
      "Epoch: 234/999 | Loss: 0.0361 | Episodes: 18 | Win count: 161 | Win rate: 0.938 | time: 6.71 minutes\n",
      "Epoch: 235/999 | Loss: 0.0220 | Episodes: 11 | Win count: 162 | Win rate: 0.938 | time: 6.72 minutes\n",
      "Epoch: 236/999 | Loss: 0.0200 | Episodes: 10 | Win count: 163 | Win rate: 0.938 | time: 6.72 minutes\n",
      "Epoch: 237/999 | Loss: 0.1817 | Episodes: 91 | Win count: 164 | Win rate: 0.938 | time: 6.77 minutes\n",
      "Epoch: 238/999 | Loss: 0.1949 | Episodes: 98 | Win count: 165 | Win rate: 0.938 | time: 6.81 minutes\n",
      "Epoch: 239/999 | Loss: 0.0496 | Episodes: 25 | Win count: 166 | Win rate: 0.938 | time: 6.82 minutes\n",
      "Epoch: 240/999 | Loss: 0.1346 | Episodes: 68 | Win count: 167 | Win rate: 0.938 | time: 6.85 minutes\n",
      "Epoch: 241/999 | Loss: 0.0158 | Episodes: 8 | Win count: 168 | Win rate: 0.938 | time: 6.85 minutes\n",
      "Epoch: 242/999 | Loss: 0.0040 | Episodes: 2 | Win count: 169 | Win rate: 0.938 | time: 6.85 minutes\n",
      "Epoch: 243/999 | Loss: 0.0533 | Episodes: 27 | Win count: 170 | Win rate: 0.938 | time: 6.86 minutes\n"
     ]
    },
    {
     "name": "stdout",
     "output_type": "stream",
     "text": [
      "Epoch: 244/999 | Loss: 0.0257 | Episodes: 13 | Win count: 171 | Win rate: 0.938 | time: 6.87 minutes\n",
      "Epoch: 245/999 | Loss: 0.0276 | Episodes: 14 | Win count: 172 | Win rate: 0.969 | time: 6.88 minutes\n",
      "Epoch: 246/999 | Loss: 0.0611 | Episodes: 31 | Win count: 173 | Win rate: 0.969 | time: 6.89 minutes\n",
      "Epoch: 247/999 | Loss: 0.0649 | Episodes: 33 | Win count: 174 | Win rate: 0.969 | time: 6.90 minutes\n",
      "Epoch: 248/999 | Loss: 0.0570 | Episodes: 29 | Win count: 175 | Win rate: 0.969 | time: 6.91 minutes\n",
      "Epoch: 249/999 | Loss: 0.0530 | Episodes: 27 | Win count: 176 | Win rate: 0.969 | time: 6.93 minutes\n",
      "Epoch: 250/999 | Loss: 0.0608 | Episodes: 31 | Win count: 177 | Win rate: 0.969 | time: 6.94 minutes\n",
      "Epoch: 251/999 | Loss: 0.0020 | Episodes: 1 | Win count: 178 | Win rate: 0.969 | time: 6.94 minutes\n",
      "Epoch: 252/999 | Loss: 0.0607 | Episodes: 31 | Win count: 179 | Win rate: 1.000 | time: 6.95 minutes\n",
      "Epoch: 253/999 | Loss: 0.0137 | Episodes: 7 | Win count: 180 | Win rate: 1.000 | time: 6.97 minutes\n",
      "Epoch: 254/999 | Loss: 0.0548 | Episodes: 28 | Win count: 181 | Win rate: 1.000 | time: 7.01 minutes\n",
      "Epoch: 255/999 | Loss: 0.0254 | Episodes: 13 | Win count: 182 | Win rate: 1.000 | time: 7.03 minutes\n",
      "Epoch: 256/999 | Loss: 0.0723 | Episodes: 37 | Win count: 183 | Win rate: 1.000 | time: 7.06 minutes\n",
      "Epoch: 257/999 | Loss: 0.1073 | Episodes: 55 | Win count: 184 | Win rate: 1.000 | time: 7.10 minutes\n",
      "Epoch: 258/999 | Loss: 0.0175 | Episodes: 9 | Win count: 185 | Win rate: 1.000 | time: 7.13 minutes\n",
      "Epoch: 259/999 | Loss: 0.0545 | Episodes: 28 | Win count: 186 | Win rate: 1.000 | time: 7.17 minutes\n",
      "Epoch: 260/999 | Loss: 0.0370 | Episodes: 19 | Win count: 187 | Win rate: 1.000 | time: 7.19 minutes\n",
      "Epoch: 261/999 | Loss: 0.0039 | Episodes: 2 | Win count: 188 | Win rate: 1.000 | time: 7.21 minutes\n",
      "Epoch: 262/999 | Loss: 0.0058 | Episodes: 3 | Win count: 189 | Win rate: 1.000 | time: 7.23 minutes\n",
      "Epoch: 263/999 | Loss: 0.0194 | Episodes: 10 | Win count: 190 | Win rate: 1.000 | time: 7.25 minutes\n",
      "Epoch: 264/999 | Loss: 0.0117 | Episodes: 6 | Win count: 191 | Win rate: 1.000 | time: 7.27 minutes\n",
      "Epoch: 265/999 | Loss: 0.0039 | Episodes: 2 | Win count: 192 | Win rate: 1.000 | time: 7.29 minutes\n",
      "Epoch: 266/999 | Loss: 0.0621 | Episodes: 32 | Win count: 193 | Win rate: 1.000 | time: 7.32 minutes\n",
      "Epoch: 267/999 | Loss: 0.0543 | Episodes: 28 | Win count: 194 | Win rate: 1.000 | time: 7.36 minutes\n",
      "Epoch: 268/999 | Loss: 0.0523 | Episodes: 27 | Win count: 195 | Win rate: 1.000 | time: 7.48 minutes\n",
      "Epoch: 269/999 | Loss: 0.0562 | Episodes: 29 | Win count: 196 | Win rate: 1.000 | time: 7.52 minutes\n",
      "Epoch: 270/999 | Loss: 0.0580 | Episodes: 30 | Win count: 197 | Win rate: 1.000 | time: 7.65 minutes\n",
      "Epoch: 271/999 | Loss: 0.0329 | Episodes: 17 | Win count: 198 | Win rate: 1.000 | time: 7.77 minutes\n",
      "Epoch: 272/999 | Loss: 0.0155 | Episodes: 8 | Win count: 199 | Win rate: 1.000 | time: 7.79 minutes\n",
      "Epoch: 273/999 | Loss: 0.0039 | Episodes: 2 | Win count: 200 | Win rate: 1.000 | time: 7.81 minutes\n",
      "Epoch: 274/999 | Loss: 0.0348 | Episodes: 18 | Win count: 201 | Win rate: 1.000 | time: 7.83 minutes\n",
      "Epoch: 275/999 | Loss: 0.0579 | Episodes: 30 | Win count: 202 | Win rate: 1.000 | time: 7.86 minutes\n",
      "Epoch: 276/999 | Loss: 0.0251 | Episodes: 13 | Win count: 203 | Win rate: 1.000 | time: 7.88 minutes\n",
      "Epoch: 277/999 | Loss: 0.0443 | Episodes: 23 | Win count: 204 | Win rate: 1.000 | time: 8.00 minutes\n",
      "Epoch: 278/999 | Loss: 0.0019 | Episodes: 1 | Win count: 205 | Win rate: 1.000 | time: 8.07 minutes\n",
      "Epoch: 279/999 | Loss: 0.0347 | Episodes: 18 | Win count: 206 | Win rate: 1.000 | time: 8.15 minutes\n",
      "Epoch: 280/999 | Loss: 0.0539 | Episodes: 28 | Win count: 207 | Win rate: 1.000 | time: 8.18 minutes\n",
      "Epoch: 281/999 | Loss: 0.0250 | Episodes: 13 | Win count: 208 | Win rate: 1.000 | time: 8.20 minutes\n",
      "Epoch: 282/999 | Loss: 0.0499 | Episodes: 26 | Win count: 209 | Win rate: 1.000 | time: 8.22 minutes\n",
      "Epoch: 283/999 | Loss: 0.0173 | Episodes: 9 | Win count: 210 | Win rate: 1.000 | time: 8.24 minutes\n",
      "Epoch: 284/999 | Loss: 0.0518 | Episodes: 27 | Win count: 211 | Win rate: 1.000 | time: 8.33 minutes\n",
      "Epoch: 285/999 | Loss: 0.0326 | Episodes: 17 | Win count: 212 | Win rate: 1.000 | time: 8.36 minutes\n",
      "Epoch: 286/999 | Loss: 0.0632 | Episodes: 33 | Win count: 213 | Win rate: 1.000 | time: 8.41 minutes\n",
      "Epoch: 287/999 | Loss: 0.0306 | Episodes: 16 | Win count: 214 | Win rate: 1.000 | time: 8.44 minutes\n",
      "Epoch: 288/999 | Loss: 0.0134 | Episodes: 7 | Win count: 215 | Win rate: 1.000 | time: 8.46 minutes\n",
      "Epoch: 289/999 | Loss: 0.0019 | Episodes: 1 | Win count: 216 | Win rate: 1.000 | time: 8.47 minutes\n",
      "Epoch: 290/999 | Loss: 0.0325 | Episodes: 17 | Win count: 217 | Win rate: 1.000 | time: 8.50 minutes\n",
      "Epoch: 291/999 | Loss: 0.0496 | Episodes: 26 | Win count: 218 | Win rate: 1.000 | time: 8.52 minutes\n",
      "Epoch: 292/999 | Loss: 0.0114 | Episodes: 6 | Win count: 219 | Win rate: 1.000 | time: 8.56 minutes\n",
      "Epoch: 293/999 | Loss: 0.0534 | Episodes: 28 | Win count: 220 | Win rate: 1.000 | time: 8.66 minutes\n",
      "Epoch: 294/999 | Loss: 0.0057 | Episodes: 3 | Win count: 221 | Win rate: 1.000 | time: 8.68 minutes\n",
      "Epoch: 295/999 | Loss: 0.0932 | Episodes: 49 | Win count: 222 | Win rate: 1.000 | time: 8.71 minutes\n",
      "Epoch: 296/999 | Loss: 0.0323 | Episodes: 17 | Win count: 223 | Win rate: 1.000 | time: 8.74 minutes\n",
      "Epoch: 297/999 | Loss: 0.0057 | Episodes: 3 | Win count: 224 | Win rate: 1.000 | time: 8.76 minutes\n",
      "Epoch: 298/999 | Loss: 0.0854 | Episodes: 45 | Win count: 225 | Win rate: 1.000 | time: 8.79 minutes\n",
      "Epoch: 299/999 | Loss: 0.0739 | Episodes: 39 | Win count: 226 | Win rate: 1.000 | time: 8.82 minutes\n",
      "Epoch: 300/999 | Loss: 0.0397 | Episodes: 21 | Win count: 227 | Win rate: 1.000 | time: 8.85 minutes\n",
      "Epoch: 301/999 | Loss: 0.0359 | Episodes: 19 | Win count: 228 | Win rate: 1.000 | time: 8.88 minutes\n",
      "Epoch: 302/999 | Loss: 0.0038 | Episodes: 2 | Win count: 229 | Win rate: 1.000 | time: 8.90 minutes\n",
      "Epoch: 303/999 | Loss: 0.0642 | Episodes: 34 | Win count: 230 | Win rate: 1.000 | time: 8.93 minutes\n",
      "Epoch: 304/999 | Loss: 0.0075 | Episodes: 4 | Win count: 231 | Win rate: 1.000 | time: 8.96 minutes\n",
      "Epoch: 305/999 | Loss: 0.0358 | Episodes: 19 | Win count: 232 | Win rate: 1.000 | time: 8.98 minutes\n",
      "Epoch: 306/999 | Loss: 0.0339 | Episodes: 18 | Win count: 233 | Win rate: 1.000 | time: 9.01 minutes\n",
      "Epoch: 307/999 | Loss: 0.0396 | Episodes: 21 | Win count: 234 | Win rate: 1.000 | time: 9.04 minutes\n",
      "Epoch: 308/999 | Loss: 0.0301 | Episodes: 16 | Win count: 235 | Win rate: 1.000 | time: 9.07 minutes\n",
      "Epoch: 309/999 | Loss: 0.0094 | Episodes: 5 | Win count: 236 | Win rate: 1.000 | time: 9.09 minutes\n",
      "Epoch: 310/999 | Loss: 0.0564 | Episodes: 30 | Win count: 237 | Win rate: 1.000 | time: 9.12 minutes\n",
      "Epoch: 311/999 | Loss: 0.0413 | Episodes: 22 | Win count: 238 | Win rate: 1.000 | time: 9.16 minutes\n",
      "Epoch: 312/999 | Loss: 0.0544 | Episodes: 29 | Win count: 239 | Win rate: 1.000 | time: 9.18 minutes\n",
      "Epoch: 313/999 | Loss: 0.0488 | Episodes: 26 | Win count: 240 | Win rate: 1.000 | time: 9.27 minutes\n",
      "Epoch: 314/999 | Loss: 0.0037 | Episodes: 2 | Win count: 241 | Win rate: 1.000 | time: 9.33 minutes\n",
      "Epoch: 315/999 | Loss: 0.0281 | Episodes: 15 | Win count: 242 | Win rate: 1.000 | time: 9.35 minutes\n",
      "Epoch: 316/999 | Loss: 0.0019 | Episodes: 1 | Win count: 243 | Win rate: 1.000 | time: 9.39 minutes\n",
      "Epoch: 317/999 | Loss: 0.1011 | Episodes: 54 | Win count: 244 | Win rate: 1.000 | time: 9.46 minutes\n",
      "Epoch: 318/999 | Loss: 0.0262 | Episodes: 14 | Win count: 245 | Win rate: 1.000 | time: 9.48 minutes\n",
      "Epoch: 319/999 | Loss: 0.0131 | Episodes: 7 | Win count: 246 | Win rate: 1.000 | time: 9.50 minutes\n",
      "Epoch: 320/999 | Loss: 0.0056 | Episodes: 3 | Win count: 247 | Win rate: 1.000 | time: 9.52 minutes\n",
      "Epoch: 321/999 | Loss: 0.0505 | Episodes: 27 | Win count: 248 | Win rate: 1.000 | time: 9.54 minutes\n",
      "Epoch: 322/999 | Loss: 0.0635 | Episodes: 34 | Win count: 249 | Win rate: 1.000 | time: 9.57 minutes\n",
      "Epoch: 323/999 | Loss: 0.0261 | Episodes: 14 | Win count: 250 | Win rate: 1.000 | time: 9.60 minutes\n",
      "Epoch: 324/999 | Loss: 0.0447 | Episodes: 24 | Win count: 251 | Win rate: 1.000 | time: 9.67 minutes\n",
      "Epoch: 325/999 | Loss: 0.0019 | Episodes: 1 | Win count: 252 | Win rate: 1.000 | time: 9.69 minutes\n"
     ]
    },
    {
     "name": "stdout",
     "output_type": "stream",
     "text": [
      "Epoch: 326/999 | Loss: 0.0261 | Episodes: 14 | Win count: 253 | Win rate: 1.000 | time: 9.71 minutes\n",
      "Epoch: 327/999 | Loss: 0.0168 | Episodes: 9 | Win count: 254 | Win rate: 1.000 | time: 9.77 minutes\n",
      "Epoch: 328/999 | Loss: 0.0130 | Episodes: 7 | Win count: 255 | Win rate: 1.000 | time: 9.83 minutes\n",
      "Epoch: 329/999 | Loss: 0.0540 | Episodes: 29 | Win count: 256 | Win rate: 1.000 | time: 9.86 minutes\n",
      "Epoch: 330/999 | Loss: 0.0074 | Episodes: 4 | Win count: 257 | Win rate: 1.000 | time: 9.88 minutes\n",
      "Epoch: 331/999 | Loss: 0.0372 | Episodes: 20 | Win count: 258 | Win rate: 1.000 | time: 9.91 minutes\n",
      "Epoch: 332/999 | Loss: 0.0446 | Episodes: 24 | Win count: 259 | Win rate: 1.000 | time: 9.94 minutes\n",
      "Epoch: 333/999 | Loss: 0.0408 | Episodes: 22 | Win count: 260 | Win rate: 1.000 | time: 9.97 minutes\n",
      "Epoch: 334/999 | Loss: 0.0037 | Episodes: 2 | Win count: 261 | Win rate: 1.000 | time: 10.03 minutes\n",
      "Epoch: 335/999 | Loss: 0.0519 | Episodes: 28 | Win count: 262 | Win rate: 1.000 | time: 10.13 minutes\n",
      "Epoch: 336/999 | Loss: 0.0278 | Episodes: 15 | Win count: 263 | Win rate: 1.000 | time: 10.26 minutes\n",
      "Epoch: 337/999 | Loss: 0.0796 | Episodes: 43 | Win count: 264 | Win rate: 1.000 | time: 10.40 minutes\n",
      "Epoch: 338/999 | Loss: 0.0610 | Episodes: 33 | Win count: 265 | Win rate: 1.000 | time: 10.44 minutes\n",
      "Epoch: 339/999 | Loss: 0.0296 | Episodes: 16 | Win count: 266 | Win rate: 1.000 | time: 10.46 minutes\n",
      "Epoch: 340/999 | Loss: 0.0332 | Episodes: 18 | Win count: 267 | Win rate: 1.000 | time: 10.53 minutes\n",
      "Epoch: 341/999 | Loss: 0.0111 | Episodes: 6 | Win count: 268 | Win rate: 1.000 | time: 10.55 minutes\n",
      "Epoch: 342/999 | Loss: 0.0129 | Episodes: 7 | Win count: 269 | Win rate: 1.000 | time: 10.57 minutes\n",
      "Epoch: 343/999 | Loss: 0.0664 | Episodes: 36 | Win count: 270 | Win rate: 1.000 | time: 10.61 minutes\n",
      "Reached 100% win rate at epoch 343\n",
      "Training complete in: 10.72 minutes\n"
     ]
    }
   ],
   "source": [
    "model = build_model(maze)\n",
    "qtrain(model, maze, n_epoch=1000, max_memory=8*maze.size, data_size=32, target_update_freq=50)"
   ]
  },
  {
   "cell_type": "markdown",
   "metadata": {},
   "source": [
    "This cell will check to see if the model passes the completion check. Note: This could take several minutes."
   ]
  },
  {
   "cell_type": "code",
   "execution_count": 17,
   "metadata": {},
   "outputs": [
    {
     "data": {
      "text/plain": [
       "<matplotlib.image.AxesImage at 0x7ee2e4960490>"
      ]
     },
     "execution_count": 17,
     "metadata": {},
     "output_type": "execute_result"
    },
    {
     "data": {
      "image/png": "[encoded data removed]",
      "text/plain": [
       "<Figure size 640x480 with 1 Axes>"
      ]
     },
     "metadata": {},
     "output_type": "display_data"
    }
   ],
   "source": [
    "completion_check(model, qmaze)\n",
    "show(qmaze)"
   ]
  },
  {
   "cell_type": "markdown",
   "metadata": {},
   "source": [
    "This cell will test your model for one game. It will start the pirate at the top-left corner and run play_game. The agent should find a path from the starting position to the target (treasure). The treasure is located in the bottom-right corner."
   ]
  },
  {
   "cell_type": "code",
   "execution_count": 18,
   "metadata": {},
   "outputs": [
    {
     "data": {
      "text/plain": [
       "<matplotlib.image.AxesImage at 0x7ee2e49e4c50>"
      ]
     },
     "execution_count": 18,
     "metadata": {},
     "output_type": "execute_result"
    },
    {
     "data": {
      "image/png": "[encoded data removed]",
      "text/plain": [
       "<Figure size 640x480 with 1 Axes>"
      ]
     },
     "metadata": {},
     "output_type": "display_data"
    }
   ],
   "source": [
    "pirate_start = (0, 0)\n",
    "play_game(model, qmaze, pirate_start)\n",
    "show(qmaze)"
   ]
  },
  {
   "cell_type": "markdown",
   "metadata": {},
   "source": [
    "## Save and Submit Your Work\n",
    "After you have finished creating the code for your notebook, save your work.\n",
    "Make sure that your notebook contains your name in the filename (e.g. Doe_Jane_ProjectTwo.html). Download this file as an .html file clicking on ***file*** in *Jupyter Notebook*, navigating down to ***Download as*** and clicking on ***.html***. \n",
    "Download a copy of your .html file and submit it to Brightspace."
   ]
  },
  {
   "cell_type": "code",
   "execution_count": null,
   "metadata": {},
   "outputs": [],
   "source": []
  },
  {
   "cell_type": "code",
   "execution_count": null,
   "metadata": {},
   "outputs": [],
   "source": []
  }
 ],
 "metadata": {
  "kernelspec": {
   "display_name": "Python 3 (ipykernel)",
   "language": "python",
   "name": "python3"
  },
  "language_info": {
   "codemirror_mode": {
    "name": "ipython",
    "version": 3
   },
   "file_extension": ".py",
   "mimetype": "text/x-python",
   "name": "python",
   "nbconvert_exporter": "python",
   "pygments_lexer": "ipython3",
   "version": "3.11.2"
  }
 },
 "nbformat": 4,
 "nbformat_minor": 2
}
